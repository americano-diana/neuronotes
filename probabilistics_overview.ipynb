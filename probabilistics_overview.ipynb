{
  "nbformat": 4,
  "nbformat_minor": 0,
  "metadata": {
    "colab": {
      "provenance": [],
      "authorship_tag": "ABX9TyNV6EEwR7svYF46z3qu/mkN",
      "include_colab_link": true
    },
    "kernelspec": {
      "name": "python3",
      "display_name": "Python 3"
    },
    "language_info": {
      "name": "python"
    },
    "widgets": {
      "application/vnd.jupyter.widget-state+json": {
        "81620a318e454a309b2f2eb2d6150267": {
          "model_module": "@jupyter-widgets/controls",
          "model_name": "VBoxModel",
          "model_module_version": "1.5.0",
          "state": {
            "_dom_classes": [
              "widget-interact"
            ],
            "_model_module": "@jupyter-widgets/controls",
            "_model_module_version": "1.5.0",
            "_model_name": "VBoxModel",
            "_view_count": null,
            "_view_module": "@jupyter-widgets/controls",
            "_view_module_version": "1.5.0",
            "_view_name": "VBoxView",
            "box_style": "",
            "children": [
              "IPY_MODEL_daccb442bad7474f99e11b787424793c",
              "IPY_MODEL_d3d892d2603c4f69bee2124208509fe7",
              "IPY_MODEL_41a60f09fe314d45a09c18bcb4181cd4",
              "IPY_MODEL_6aaa4e1339b74575af61fd6b1e3b2a9a",
              "IPY_MODEL_b9f0819bc7424eb3be6765f12801072c"
            ],
            "layout": "IPY_MODEL_2ca8b0a3687d4c2cacda2b1f7d441e85"
          }
        },
        "daccb442bad7474f99e11b787424793c": {
          "model_module": "@jupyter-widgets/controls",
          "model_name": "FloatSliderModel",
          "model_module_version": "1.5.0",
          "state": {
            "_dom_classes": [],
            "_model_module": "@jupyter-widgets/controls",
            "_model_module_version": "1.5.0",
            "_model_name": "FloatSliderModel",
            "_view_count": null,
            "_view_module": "@jupyter-widgets/controls",
            "_view_module_version": "1.5.0",
            "_view_name": "FloatSliderView",
            "continuous_update": true,
            "description": "True P",
            "description_tooltip": null,
            "disabled": false,
            "layout": "IPY_MODEL_bec661372f98474b97f8f8cb3006f4a5",
            "max": 0.95,
            "min": 0.05,
            "orientation": "horizontal",
            "readout": true,
            "readout_format": ".2f",
            "step": 0.05,
            "style": "IPY_MODEL_310c6d08bb9e4fe39646d52474138815",
            "value": 0.5
          }
        },
        "d3d892d2603c4f69bee2124208509fe7": {
          "model_module": "@jupyter-widgets/controls",
          "model_name": "IntSliderModel",
          "model_module_version": "1.5.0",
          "state": {
            "_dom_classes": [],
            "_model_module": "@jupyter-widgets/controls",
            "_model_module_version": "1.5.0",
            "_model_name": "IntSliderModel",
            "_view_count": null,
            "_view_module": "@jupyter-widgets/controls",
            "_view_module_version": "1.5.0",
            "_view_name": "IntSliderView",
            "continuous_update": true,
            "description": "Num Flips",
            "description_tooltip": null,
            "disabled": false,
            "layout": "IPY_MODEL_d8accdab4c3d42eaa28c345567e717f0",
            "max": 1000,
            "min": 10,
            "orientation": "horizontal",
            "readout": true,
            "readout_format": "d",
            "step": 10,
            "style": "IPY_MODEL_7502c6aed09a421f94561e8d0bf6082e",
            "value": 200
          }
        },
        "41a60f09fe314d45a09c18bcb4181cd4": {
          "model_module": "@jupyter-widgets/controls",
          "model_name": "IntSliderModel",
          "model_module_version": "1.5.0",
          "state": {
            "_dom_classes": [],
            "_model_module": "@jupyter-widgets/controls",
            "_model_module_version": "1.5.0",
            "_model_name": "IntSliderModel",
            "_view_count": null,
            "_view_module": "@jupyter-widgets/controls",
            "_view_module_version": "1.5.0",
            "_view_name": "IntSliderView",
            "continuous_update": true,
            "description": "Alpha Prior",
            "description_tooltip": null,
            "disabled": false,
            "layout": "IPY_MODEL_2361dc2a3d6349c9bb0deec54150519a",
            "max": 10,
            "min": 1,
            "orientation": "horizontal",
            "readout": true,
            "readout_format": "d",
            "step": 1,
            "style": "IPY_MODEL_174b28d406be4eef8c211a6fd967a970",
            "value": 1
          }
        },
        "6aaa4e1339b74575af61fd6b1e3b2a9a": {
          "model_module": "@jupyter-widgets/controls",
          "model_name": "IntSliderModel",
          "model_module_version": "1.5.0",
          "state": {
            "_dom_classes": [],
            "_model_module": "@jupyter-widgets/controls",
            "_model_module_version": "1.5.0",
            "_model_name": "IntSliderModel",
            "_view_count": null,
            "_view_module": "@jupyter-widgets/controls",
            "_view_module_version": "1.5.0",
            "_view_name": "IntSliderView",
            "continuous_update": true,
            "description": "Beta Prior",
            "description_tooltip": null,
            "disabled": false,
            "layout": "IPY_MODEL_c70d4c4e9afc46d9bae86ad2cecd4b03",
            "max": 10,
            "min": 1,
            "orientation": "horizontal",
            "readout": true,
            "readout_format": "d",
            "step": 1,
            "style": "IPY_MODEL_364baa6bd2b044f0b6de9190552bcae9",
            "value": 1
          }
        },
        "b9f0819bc7424eb3be6765f12801072c": {
          "model_module": "@jupyter-widgets/output",
          "model_name": "OutputModel",
          "model_module_version": "1.0.0",
          "state": {
            "_dom_classes": [],
            "_model_module": "@jupyter-widgets/output",
            "_model_module_version": "1.0.0",
            "_model_name": "OutputModel",
            "_view_count": null,
            "_view_module": "@jupyter-widgets/output",
            "_view_module_version": "1.0.0",
            "_view_name": "OutputView",
            "layout": "IPY_MODEL_d7b6e3ff5b0b47bf853b61a9dc6e7556",
            "msg_id": "",
            "outputs": [
              {
                "output_type": "display_data",
                "data": {
                  "text/plain": "<Figure size 1200x500 with 2 Axes>",
                  "image/png": "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\n"
                },
                "metadata": {}
              },
              {
                "output_type": "display_data",
                "data": {
                  "text/plain": "<Figure size 700x400 with 1 Axes>",
                  "image/png": "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\n"
                },
                "metadata": {}
              }
            ]
          }
        },
        "2ca8b0a3687d4c2cacda2b1f7d441e85": {
          "model_module": "@jupyter-widgets/base",
          "model_name": "LayoutModel",
          "model_module_version": "1.2.0",
          "state": {
            "_model_module": "@jupyter-widgets/base",
            "_model_module_version": "1.2.0",
            "_model_name": "LayoutModel",
            "_view_count": null,
            "_view_module": "@jupyter-widgets/base",
            "_view_module_version": "1.2.0",
            "_view_name": "LayoutView",
            "align_content": null,
            "align_items": null,
            "align_self": null,
            "border": null,
            "bottom": null,
            "display": null,
            "flex": null,
            "flex_flow": null,
            "grid_area": null,
            "grid_auto_columns": null,
            "grid_auto_flow": null,
            "grid_auto_rows": null,
            "grid_column": null,
            "grid_gap": null,
            "grid_row": null,
            "grid_template_areas": null,
            "grid_template_columns": null,
            "grid_template_rows": null,
            "height": null,
            "justify_content": null,
            "justify_items": null,
            "left": null,
            "margin": null,
            "max_height": null,
            "max_width": null,
            "min_height": null,
            "min_width": null,
            "object_fit": null,
            "object_position": null,
            "order": null,
            "overflow": null,
            "overflow_x": null,
            "overflow_y": null,
            "padding": null,
            "right": null,
            "top": null,
            "visibility": null,
            "width": null
          }
        },
        "bec661372f98474b97f8f8cb3006f4a5": {
          "model_module": "@jupyter-widgets/base",
          "model_name": "LayoutModel",
          "model_module_version": "1.2.0",
          "state": {
            "_model_module": "@jupyter-widgets/base",
            "_model_module_version": "1.2.0",
            "_model_name": "LayoutModel",
            "_view_count": null,
            "_view_module": "@jupyter-widgets/base",
            "_view_module_version": "1.2.0",
            "_view_name": "LayoutView",
            "align_content": null,
            "align_items": null,
            "align_self": null,
            "border": null,
            "bottom": null,
            "display": null,
            "flex": null,
            "flex_flow": null,
            "grid_area": null,
            "grid_auto_columns": null,
            "grid_auto_flow": null,
            "grid_auto_rows": null,
            "grid_column": null,
            "grid_gap": null,
            "grid_row": null,
            "grid_template_areas": null,
            "grid_template_columns": null,
            "grid_template_rows": null,
            "height": null,
            "justify_content": null,
            "justify_items": null,
            "left": null,
            "margin": null,
            "max_height": null,
            "max_width": null,
            "min_height": null,
            "min_width": null,
            "object_fit": null,
            "object_position": null,
            "order": null,
            "overflow": null,
            "overflow_x": null,
            "overflow_y": null,
            "padding": null,
            "right": null,
            "top": null,
            "visibility": null,
            "width": null
          }
        },
        "310c6d08bb9e4fe39646d52474138815": {
          "model_module": "@jupyter-widgets/controls",
          "model_name": "SliderStyleModel",
          "model_module_version": "1.5.0",
          "state": {
            "_model_module": "@jupyter-widgets/controls",
            "_model_module_version": "1.5.0",
            "_model_name": "SliderStyleModel",
            "_view_count": null,
            "_view_module": "@jupyter-widgets/base",
            "_view_module_version": "1.2.0",
            "_view_name": "StyleView",
            "description_width": "",
            "handle_color": null
          }
        },
        "d8accdab4c3d42eaa28c345567e717f0": {
          "model_module": "@jupyter-widgets/base",
          "model_name": "LayoutModel",
          "model_module_version": "1.2.0",
          "state": {
            "_model_module": "@jupyter-widgets/base",
            "_model_module_version": "1.2.0",
            "_model_name": "LayoutModel",
            "_view_count": null,
            "_view_module": "@jupyter-widgets/base",
            "_view_module_version": "1.2.0",
            "_view_name": "LayoutView",
            "align_content": null,
            "align_items": null,
            "align_self": null,
            "border": null,
            "bottom": null,
            "display": null,
            "flex": null,
            "flex_flow": null,
            "grid_area": null,
            "grid_auto_columns": null,
            "grid_auto_flow": null,
            "grid_auto_rows": null,
            "grid_column": null,
            "grid_gap": null,
            "grid_row": null,
            "grid_template_areas": null,
            "grid_template_columns": null,
            "grid_template_rows": null,
            "height": null,
            "justify_content": null,
            "justify_items": null,
            "left": null,
            "margin": null,
            "max_height": null,
            "max_width": null,
            "min_height": null,
            "min_width": null,
            "object_fit": null,
            "object_position": null,
            "order": null,
            "overflow": null,
            "overflow_x": null,
            "overflow_y": null,
            "padding": null,
            "right": null,
            "top": null,
            "visibility": null,
            "width": null
          }
        },
        "7502c6aed09a421f94561e8d0bf6082e": {
          "model_module": "@jupyter-widgets/controls",
          "model_name": "SliderStyleModel",
          "model_module_version": "1.5.0",
          "state": {
            "_model_module": "@jupyter-widgets/controls",
            "_model_module_version": "1.5.0",
            "_model_name": "SliderStyleModel",
            "_view_count": null,
            "_view_module": "@jupyter-widgets/base",
            "_view_module_version": "1.2.0",
            "_view_name": "StyleView",
            "description_width": "",
            "handle_color": null
          }
        },
        "2361dc2a3d6349c9bb0deec54150519a": {
          "model_module": "@jupyter-widgets/base",
          "model_name": "LayoutModel",
          "model_module_version": "1.2.0",
          "state": {
            "_model_module": "@jupyter-widgets/base",
            "_model_module_version": "1.2.0",
            "_model_name": "LayoutModel",
            "_view_count": null,
            "_view_module": "@jupyter-widgets/base",
            "_view_module_version": "1.2.0",
            "_view_name": "LayoutView",
            "align_content": null,
            "align_items": null,
            "align_self": null,
            "border": null,
            "bottom": null,
            "display": null,
            "flex": null,
            "flex_flow": null,
            "grid_area": null,
            "grid_auto_columns": null,
            "grid_auto_flow": null,
            "grid_auto_rows": null,
            "grid_column": null,
            "grid_gap": null,
            "grid_row": null,
            "grid_template_areas": null,
            "grid_template_columns": null,
            "grid_template_rows": null,
            "height": null,
            "justify_content": null,
            "justify_items": null,
            "left": null,
            "margin": null,
            "max_height": null,
            "max_width": null,
            "min_height": null,
            "min_width": null,
            "object_fit": null,
            "object_position": null,
            "order": null,
            "overflow": null,
            "overflow_x": null,
            "overflow_y": null,
            "padding": null,
            "right": null,
            "top": null,
            "visibility": null,
            "width": null
          }
        },
        "174b28d406be4eef8c211a6fd967a970": {
          "model_module": "@jupyter-widgets/controls",
          "model_name": "SliderStyleModel",
          "model_module_version": "1.5.0",
          "state": {
            "_model_module": "@jupyter-widgets/controls",
            "_model_module_version": "1.5.0",
            "_model_name": "SliderStyleModel",
            "_view_count": null,
            "_view_module": "@jupyter-widgets/base",
            "_view_module_version": "1.2.0",
            "_view_name": "StyleView",
            "description_width": "",
            "handle_color": null
          }
        },
        "c70d4c4e9afc46d9bae86ad2cecd4b03": {
          "model_module": "@jupyter-widgets/base",
          "model_name": "LayoutModel",
          "model_module_version": "1.2.0",
          "state": {
            "_model_module": "@jupyter-widgets/base",
            "_model_module_version": "1.2.0",
            "_model_name": "LayoutModel",
            "_view_count": null,
            "_view_module": "@jupyter-widgets/base",
            "_view_module_version": "1.2.0",
            "_view_name": "LayoutView",
            "align_content": null,
            "align_items": null,
            "align_self": null,
            "border": null,
            "bottom": null,
            "display": null,
            "flex": null,
            "flex_flow": null,
            "grid_area": null,
            "grid_auto_columns": null,
            "grid_auto_flow": null,
            "grid_auto_rows": null,
            "grid_column": null,
            "grid_gap": null,
            "grid_row": null,
            "grid_template_areas": null,
            "grid_template_columns": null,
            "grid_template_rows": null,
            "height": null,
            "justify_content": null,
            "justify_items": null,
            "left": null,
            "margin": null,
            "max_height": null,
            "max_width": null,
            "min_height": null,
            "min_width": null,
            "object_fit": null,
            "object_position": null,
            "order": null,
            "overflow": null,
            "overflow_x": null,
            "overflow_y": null,
            "padding": null,
            "right": null,
            "top": null,
            "visibility": null,
            "width": null
          }
        },
        "364baa6bd2b044f0b6de9190552bcae9": {
          "model_module": "@jupyter-widgets/controls",
          "model_name": "SliderStyleModel",
          "model_module_version": "1.5.0",
          "state": {
            "_model_module": "@jupyter-widgets/controls",
            "_model_module_version": "1.5.0",
            "_model_name": "SliderStyleModel",
            "_view_count": null,
            "_view_module": "@jupyter-widgets/base",
            "_view_module_version": "1.2.0",
            "_view_name": "StyleView",
            "description_width": "",
            "handle_color": null
          }
        },
        "d7b6e3ff5b0b47bf853b61a9dc6e7556": {
          "model_module": "@jupyter-widgets/base",
          "model_name": "LayoutModel",
          "model_module_version": "1.2.0",
          "state": {
            "_model_module": "@jupyter-widgets/base",
            "_model_module_version": "1.2.0",
            "_model_name": "LayoutModel",
            "_view_count": null,
            "_view_module": "@jupyter-widgets/base",
            "_view_module_version": "1.2.0",
            "_view_name": "LayoutView",
            "align_content": null,
            "align_items": null,
            "align_self": null,
            "border": null,
            "bottom": null,
            "display": null,
            "flex": null,
            "flex_flow": null,
            "grid_area": null,
            "grid_auto_columns": null,
            "grid_auto_flow": null,
            "grid_auto_rows": null,
            "grid_column": null,
            "grid_gap": null,
            "grid_row": null,
            "grid_template_areas": null,
            "grid_template_columns": null,
            "grid_template_rows": null,
            "height": null,
            "justify_content": null,
            "justify_items": null,
            "left": null,
            "margin": null,
            "max_height": null,
            "max_width": null,
            "min_height": null,
            "min_width": null,
            "object_fit": null,
            "object_position": null,
            "order": null,
            "overflow": null,
            "overflow_x": null,
            "overflow_y": null,
            "padding": null,
            "right": null,
            "top": null,
            "visibility": null,
            "width": null
          }
        }
      }
    }
  },
  "cells": [
    {
      "cell_type": "markdown",
      "metadata": {
        "id": "view-in-github",
        "colab_type": "text"
      },
      "source": [
        "<a href=\"https://colab.research.google.com/github/americano-diana/neuronotes/blob/main/probabilistics_overview.ipynb\" target=\"_parent\"><img src=\"https://colab.research.google.com/assets/colab-badge.svg\" alt=\"Open In Colab\"/></a>"
      ]
    },
    {
      "cell_type": "markdown",
      "source": [
        "# Topic 1: Stats - Bayesian & Frequentist approaches (but mostly bayesian)\n",
        "\n",
        "I begin this series of notebooks as someone who is deeply interested in understanding the maths behind probabilistic statistics and modeling techniques. I also find it very useful to be able to visualize & test with code the topics that I learn. Thus this series of \"NeuroNotes\" notebooks are born. As a disclaimer, I am myself a master's student who is learning/solidifying their own learning, if there are any mistakes please do let me know and I will correct right away. I hope other students or anyone who is curious about both theory and application of these topics will find it useful! If no one else but myself sees it, that is all fine as well, as I will have learned anyways.\n",
        "\n",
        "Let's go ahead 😺\n",
        "\n",
        "-DPAG\n"
      ],
      "metadata": {
        "id": "jdlLJ8bT5sJN"
      }
    },
    {
      "cell_type": "markdown",
      "source": [
        "# Stats Overview - the traditional way vs the bayesian way?\n",
        "\n",
        "Frequentist and bayesian statistics are constantly at feud it seems, let us go over what each of them are, propose, and why in neuroscience we find bayesian stuff cool (aka, is the brain doing bayesian stats?!?)"
      ],
      "metadata": {
        "id": "_QrGHqv74nNR"
      }
    },
    {
      "cell_type": "markdown",
      "source": [
        "## Disclaimer\n",
        "\n",
        "Content is taken/summarized from the book \"All of Statistics\" by Larry A. Wasserman, which I highly recommend. It has all the necessary definitions and proofs one will ever (or perhaps never) need!\n",
        "\n",
        "[Link to the book](https://link.springer.com/book/10.1007/978-0-387-21736-9)"
      ],
      "metadata": {
        "id": "A6DJ3ADs49mZ"
      }
    },
    {
      "cell_type": "markdown",
      "source": [
        "# It all begins with: Probability\n",
        "\n",
        "\"Probability is the mathematical language for quantifying uncertainty.\" (Larry A. Wasserman, in the above mentioned book).\n",
        "\n",
        "The probability $P$ of an event $A$ can be defined as a real number under the function $P(A)$. This value $P$ can be either a distribution or specific measure (number).\n",
        "\n",
        "Now there's different ways how we can interpret this $P(A)$. The two common ones which I hinted at above are the frequentist approach and the degree of belief (bayesian) approach.\n",
        "\n",
        "According to frequentist statistics, $P(A)$ is the proportion of times that A is true given $x$ repetitions.\n",
        "\n",
        "The most simple usual example is the $P(A)$ where A means \"coin will land on heads\". If we say $P(Heads) = 1/2$, it means that if we flip the coin x times then heads is expected to be the outcome during half of those times.\n",
        "\n",
        "The bayesian interpretation is that $P(A)$ measures the observer's **strength of belief** that A will be true, given current knowledge and assumptions (known as priors). Following the example where A means \"coin will land on heads\", from a bayesian approach,  $P(Heads) = 1/2$  means we believe coin will land on heads half of the time. However, the value of our initial belief (in the example: $1/2$) can **change and adapt** given new evidence.\n",
        "\n",
        "\n",
        "### Now let's go over some code and explore these two interpreations!"
      ],
      "metadata": {
        "id": "BgK1kS6n7h8r"
      }
    },
    {
      "cell_type": "markdown",
      "source": [
        "## Frequentist probability\n",
        "\n",
        "Given a finite sample space (number of trials called $N$ let's say), the $P(A)$ will be\n",
        "\n",
        "$P(A) = |A|/|N|$\n",
        "\n",
        "There's a few assumptions behind this definition, such as our $N$ being finite and each outcome being equally likely, for more details (such as conditional probability) check out the book. For our simple comparison we shall take this as a sample frequentist way of calculating probability."
      ],
      "metadata": {
        "id": "N7urVdIxCPwN"
      }
    },
    {
      "cell_type": "code",
      "source": [
        "# Importing libraries\n",
        "\n",
        "import numpy as np\n",
        "import matplotlib.pyplot as plt\n",
        "from scipy.stats import beta\n",
        "import ipywidgets as widgets      # Interactive widgets so we can play with the degree-of-belief\n",
        "from ipywidgets import interact"
      ],
      "metadata": {
        "id": "KwD7njnA-J3-"
      },
      "execution_count": null,
      "outputs": []
    },
    {
      "cell_type": "code",
      "source": [
        "# Consider a random exercise where we tossed coin 10 times and observed a certain number of tails vs heads\n",
        "# Feel free to edit the numbers if you want\n",
        "heads = 6\n",
        "tails = 4\n",
        "\n",
        "# Now how do we calculate P(A) from a frequentist approach?\n",
        "# Formula: P(A) = heads / (heads + tails), where heads = A, and N = (tails + heads)\n",
        "frequentist_p = heads / (heads + tails)\n",
        "\n",
        "print(frequentist_p)\n",
        "\n",
        "# This means the probability of heads based off our observations = 60%! (Unless you toggle the numbers, you can explore how it changes, but this should be pretty straight forward)"
      ],
      "metadata": {
        "colab": {
          "base_uri": "https://localhost:8080/"
        },
        "id": "8ctcbpTRBUA9",
        "outputId": "b9696410-044d-4a01-8678-97433f1f1938"
      },
      "execution_count": null,
      "outputs": [
        {
          "output_type": "stream",
          "name": "stdout",
          "text": [
            "0.6\n"
          ]
        }
      ]
    },
    {
      "cell_type": "markdown",
      "source": [
        "## Bayesian probability\n",
        "\n",
        "To speak of Bayesian statistics we most necessarily refer to Bayes' Theorem. Bayes' Theorem was proposed by a mathematician under the same name, Thomas Bayes, as a theorem to calculate probability.\n",
        "\n",
        "Bayes' Theorem relates the \"direct\" probability of a hypothesis conditional on a given body of data, $P(E|H)$, to the \"inverse\" probability of the data conditional on the hypothesis, $P(H|E)$, calculated as follows:\n",
        "\n",
        "$P(H∣E)= P (E | H ) * P (H) / P(E)$\n",
        "\n",
        "\n",
        "Where:\n",
        "\n",
        "𝐻 = Hypothesis (e.g., “the coin’s probability of heads is 0.5”)\n",
        "\n",
        "𝐸 = Evidence or data (e.g., “we observed 6 heads and 4 tails”)\n",
        "\n",
        "𝑃(𝐻) = Prior probability — our belief in 𝐻 before seeing any data.\n",
        "\n",
        "𝑃(𝐸∣𝐻) = Likelihood — the probability of E given H.\n",
        "\n",
        "𝑃(𝐸) = Evidence or marginal likelihood — the total probability of the data, considering all possible hypotheses.\n",
        "\n",
        "𝑃(𝐻∣𝐸) = Posterior probability — our updated belief in 𝐻\n",
        "\n",
        "-\n",
        "\n",
        "In summary, the calculation of the posterior (our updated belief) can be defined as:\n",
        "\n",
        "Posterior = Likelihood * Prior / Data\n",
        "\n",
        "For our exercise with the coin let's define our priors as\n",
        "P(Tails) = 0.4\n",
        "P(Heads) = 0.6\n",
        "\n",
        "with Likelihoods both equal to 0.5\n",
        "\n",
        "How do we update our posteriors?"
      ],
      "metadata": {
        "id": "-vcPosjEDKV-"
      }
    },
    {
      "cell_type": "code",
      "source": [
        "# Now let's do the same exercise utilizing a bayesian approach\n",
        "\n",
        "# Defining our priors as stated above - these are the probabilities for each outcome (which are based off the frequentist values above)\n",
        "P_heads = 0.6\n",
        "P_tails = 0.4\n",
        "\n",
        "# Likelihood of event E given each hypothesis - assuming both events happening have the same likelihood!\n",
        "P_E_given_heads = 0.5\n",
        "P_E_given_tails = 0.5\n",
        "\n",
        "# Evidence (total probability of E)\n",
        "P_E = P_E_given_heads * P_heads + P_E_given_tails * P_tails\n",
        "\n",
        "# Updated posterior for heads\n",
        "P_heads_given_E = (P_E_given_heads * P_heads) / P_E\n",
        "\n",
        "# Updated posterior for tails\n",
        "P_tails_given_E = (P_E_given_tails * P_tails) / P_E\n",
        "\n",
        "print(f\"P(Heads | E) = {P_heads_given_E:.2f}\")\n",
        "print(f\"P(Tails | E) = {P_tails_given_E:.2f}\")\n"
      ],
      "metadata": {
        "colab": {
          "base_uri": "https://localhost:8080/"
        },
        "id": "BcU9OkezH1KI",
        "outputId": "c1afce92-7736-4b92-fcf2-d9f31604d71a"
      },
      "execution_count": null,
      "outputs": [
        {
          "output_type": "stream",
          "name": "stdout",
          "text": [
            "P(Heads | E) = 0.60\n",
            "P(Tails | E) = 0.40\n"
          ]
        }
      ]
    },
    {
      "cell_type": "markdown",
      "source": [
        "### Discussion point: Why do you think the priors and posteriors ended up being the same?"
      ],
      "metadata": {
        "id": "aWXF-TbWJyq1"
      }
    },
    {
      "cell_type": "markdown",
      "source": [],
      "metadata": {
        "id": "WBBuBMxCKCrz"
      }
    },
    {
      "cell_type": "code",
      "source": [
        "# OPTIONAL: Here's a widget to interact and move values to visualize frequentist vs bayesian probabilities\n",
        "\n",
        "# Interactive plotting function\n",
        "def simulate_coin(true_p=0.5, n_flips=200, alpha_prior=1, beta_prior=1):\n",
        "    np.random.seed(42)  # For reproducibility\n",
        "\n",
        "    # Simulate flips\n",
        "    flips = np.random.binomial(1, true_p, n_flips)\n",
        "    trials = np.arange(1, n_flips + 1)\n",
        "\n",
        "    # Frequentist estimates\n",
        "    cumulative_heads = np.cumsum(flips)\n",
        "    frequentist_estimate = cumulative_heads / trials\n",
        "\n",
        "    # Bayesian updating\n",
        "    alpha_post = alpha_prior\n",
        "    beta_post = beta_prior\n",
        "    posterior_means = []\n",
        "    for flip in flips:\n",
        "        if flip == 1:\n",
        "            alpha_post += 1\n",
        "        else:\n",
        "            beta_post += 1\n",
        "        posterior_means.append(alpha_post / (alpha_post + beta_post))\n",
        "\n",
        "    # Plot\n",
        "    fig, axes = plt.subplots(1, 2, figsize=(12, 5))\n",
        "\n",
        "    # Frequentist plot\n",
        "    axes[0].plot(trials, frequentist_estimate, label='Frequentist Estimate')\n",
        "    axes[0].axhline(y=true_p, color='red', linestyle='--', label='True Probability')\n",
        "    axes[0].set_xlabel(\"Number of Trials\")\n",
        "    axes[0].set_ylabel(\"Estimated Probability of Heads\")\n",
        "    axes[0].set_title(\"Frequentist Approach\")\n",
        "    axes[0].legend()\n",
        "\n",
        "    # Bayesian plot (Posterior mean)\n",
        "    axes[1].plot(trials, posterior_means, label='Bayesian Posterior Mean')\n",
        "    axes[1].axhline(y=true_p, color='red', linestyle='--', label='True Probability')\n",
        "    axes[1].set_xlabel(\"Number of Trials\")\n",
        "    axes[1].set_ylabel(\"Belief in Probability of Heads\")\n",
        "    axes[1].set_title(\"Bayesian Approach\")\n",
        "    axes[1].legend()\n",
        "\n",
        "    plt.show()\n",
        "\n",
        "    # Posterior distribution after all flips\n",
        "    x = np.linspace(0, 1, 200)\n",
        "    posterior_dist = beta(alpha_post, beta_post)\n",
        "    plt.figure(figsize=(7, 4))\n",
        "    plt.plot(x, posterior_dist.pdf(x), label=f'Posterior: Beta({alpha_post}, {beta_post})')\n",
        "    plt.axvline(true_p, color='red', linestyle='--', label='True Probability')\n",
        "    plt.xlabel(\"Probability of Heads\")\n",
        "    plt.ylabel(\"Density\")\n",
        "    plt.title(\"Final Bayesian Posterior Distribution\")\n",
        "    plt.legend()\n",
        "    plt.show()\n",
        "\n",
        "# Create interactive sliders\n",
        "interact(\n",
        "    simulate_coin,\n",
        "    true_p=widgets.FloatSlider(value=0.5, min=0.05, max=0.95, step=0.05, description='True P'),\n",
        "    n_flips=widgets.IntSlider(value=200, min=10, max=1000, step=10, description='Num Flips'),\n",
        "    alpha_prior=widgets.IntSlider(value=1, min=1, max=10, step=1, description='Alpha Prior'),\n",
        "    beta_prior=widgets.IntSlider(value=1, min=1, max=10, step=1, description='Beta Prior')\n",
        ")\n"
      ],
      "metadata": {
        "colab": {
          "base_uri": "https://localhost:8080/",
          "height": 1000,
          "referenced_widgets": [
            "81620a318e454a309b2f2eb2d6150267",
            "daccb442bad7474f99e11b787424793c",
            "d3d892d2603c4f69bee2124208509fe7",
            "41a60f09fe314d45a09c18bcb4181cd4",
            "6aaa4e1339b74575af61fd6b1e3b2a9a",
            "b9f0819bc7424eb3be6765f12801072c",
            "2ca8b0a3687d4c2cacda2b1f7d441e85",
            "bec661372f98474b97f8f8cb3006f4a5",
            "310c6d08bb9e4fe39646d52474138815",
            "d8accdab4c3d42eaa28c345567e717f0",
            "7502c6aed09a421f94561e8d0bf6082e",
            "2361dc2a3d6349c9bb0deec54150519a",
            "174b28d406be4eef8c211a6fd967a970",
            "c70d4c4e9afc46d9bae86ad2cecd4b03",
            "364baa6bd2b044f0b6de9190552bcae9",
            "d7b6e3ff5b0b47bf853b61a9dc6e7556"
          ]
        },
        "id": "tC9Qi7f9AsEO",
        "outputId": "0551f190-dfee-48f2-e5a2-cae1bac9eb12"
      },
      "execution_count": null,
      "outputs": [
        {
          "output_type": "display_data",
          "data": {
            "text/plain": [
              "interactive(children=(FloatSlider(value=0.5, description='True P', max=0.95, min=0.05, step=0.05), IntSlider(v…"
            ],
            "application/vnd.jupyter.widget-view+json": {
              "version_major": 2,
              "version_minor": 0,
              "model_id": "81620a318e454a309b2f2eb2d6150267"
            }
          },
          "metadata": {}
        },
        {
          "output_type": "execute_result",
          "data": {
            "text/plain": [
              "<function __main__.simulate_coin(true_p=0.5, n_flips=200, alpha_prior=1, beta_prior=1)>"
            ],
            "text/html": [
              "<div style=\"max-width:800px; border: 1px solid var(--colab-border-color);\"><style>\n",
              "      pre.function-repr-contents {\n",
              "        overflow-x: auto;\n",
              "        padding: 8px 12px;\n",
              "        max-height: 500px;\n",
              "      }\n",
              "\n",
              "      pre.function-repr-contents.function-repr-contents-collapsed {\n",
              "        cursor: pointer;\n",
              "        max-height: 100px;\n",
              "      }\n",
              "    </style>\n",
              "    <pre style=\"white-space: initial; background:\n",
              "         var(--colab-secondary-surface-color); padding: 8px 12px;\n",
              "         border-bottom: 1px solid var(--colab-border-color);\"><b>simulate_coin</b><br/>def simulate_coin(true_p=0.5, n_flips=200, alpha_prior=1, beta_prior=1)</pre><pre class=\"function-repr-contents function-repr-contents-collapsed\" style=\"\"><a class=\"filepath\" style=\"display:none\" href=\"#\">/tmp/ipython-input-3332295155.py</a>&lt;no docstring&gt;</pre></div>"
            ]
          },
          "metadata": {},
          "execution_count": 6
        }
      ]
    },
    {
      "cell_type": "markdown",
      "source": [
        "## Lastly - Bayesian Stats and Neuroscience\n",
        "\n",
        "Now we come back to something I mentioned I asked in the beginning: **Is the brain doing bayesian statistics?**\n",
        "\n",
        "First I must mention we are still figuring out what the brain does, and we might never fully understand it, but the short answer is **we think so**.\n",
        "\n",
        "The theory is that our brain functions like a prediction machine adapting to minimize uncertainty in its environment, and the way it does this is through constantly processing the world based off existing priors, which are then adjusted into posteriors, and repeat.\n",
        "\n",
        "This gave rise the the widely known predictive processing/coding theory in neuroscience.\n",
        "\n",
        "What's cool about predictive coding is that it follows a hierarchical processing/updating mechanism which means we can even apply it to Artificial Neural Networks (ANNs) and test if it makes our ANN behave more brain-like!\n",
        "\n",
        "Predictive Coding is a complex topic of its own, I aim to learn more about it and write a notebook about it next.\n",
        "\n",
        "Hope you found this useful too!"
      ],
      "metadata": {
        "id": "qlHV0JcpK5Xq"
      }
    },
    {
      "cell_type": "markdown",
      "source": [
        "## Cool extra resources\n",
        "\n",
        "[Book: Active Inference, The Free Energy Principle in Mind, Brain and Behavior](https://direct.mit.edu/books/oa-monograph/5299/Active-InferenceThe-Free-Energy-Principle-in-Mind)\n",
        "\n",
        "[Video: Karl Friston speaks of Predictive Coding](https://www.youtube.com/watch?v=b1hEc6vay_k&ab_channel=Dartmouth)"
      ],
      "metadata": {
        "id": "zxsxpOyFL48q"
      }
    }
  ]
}